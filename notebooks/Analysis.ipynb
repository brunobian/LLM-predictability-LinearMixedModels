{
 "cells": [
  {
   "cell_type": "markdown",
   "id": "05207775-80d4-426e-9524-506a226e87de",
   "metadata": {},
   "source": [
    "### Modelos a usar "
   ]
  },
  {
   "cell_type": "code",
   "execution_count": 32,
   "id": "a29964d2-bc8b-4fb9-bb63-6238881fdb02",
   "metadata": {},
   "outputs": [],
   "source": [
    "MODELS = [ # M3+\n",
    "    '10_all_maj',\n",
    "    'ft_maj', \n",
    "    '10_all_epubs',\n",
    "    'gpt2-spanish',\n",
    "    'gpt2-ft',\n",
    "    'gpt2-blogs',\n",
    "    'llama-7b-hf',\n",
    "    'Llama-2-7b-hf'    \n",
    "]\n",
    "\n",
    "NAMES = dict(\n",
    "    M0=\"Base\",\n",
    "    M1=\"Cloze\",\n",
    "    M2=\"Ngram\",\n",
    "    M3=\"AWD-wiki\",\n",
    "    M4=\"AWD-FT\",\n",
    "    M5=\"AWD-epubs\",\n",
    "    M6=\"GPT2\",\n",
    "    M7=\"GPT2-cuentos\",\n",
    "    M8=\"GPT2-blogs\",\n",
    "    M9=\"llama\",\n",
    "    M10=\"llama2\"\n",
    ")"
   ]
  },
  {
   "cell_type": "markdown",
   "id": "b19e8057-ddb4-4fa7-82e6-f1937835c67e",
   "metadata": {},
   "source": [
    "**Models Descriptions**\n",
    "- MO: Base model\n",
    "- M1: Cloze Task predction\n",
    "- M2: Ngrams model\n",
    "- M3: AWD-LSTM model trained using articles form ES Wikipedia \n",
    "- M4: M3 model finetuned using Buenos Aires Corpus \n",
    "- M5: AWD-LSTM model trained using corpus of books in Spanish\n",
    "- M6: GPT2-Spanish model from DeepEsp (pred estimada por Bruno)\n",
    "- M7: GPT2-Spanish model from DeepEsp finetuneado con corpus de 2000 cuentos \n",
    "- M8: GPT2-Spanish model from DeepEsp finetuneado con corpus de blogs nacionales\n"
   ]
  },
  {
   "cell_type": "markdown",
   "id": "d110a1c7-4d08-447d-98d0-c6f31bb6bc73",
   "metadata": {
    "tags": []
   },
   "source": [
    "### Librerias Necesarias"
   ]
  },
  {
   "cell_type": "code",
   "execution_count": 33,
   "id": "ffb98fbd-e231-40d2-9d4a-e8b898418b20",
   "metadata": {
    "scrolled": true
   },
   "outputs": [
    {
     "name": "stdout",
     "output_type": "stream",
     "text": [
      "Defaulting to user installation because normal site-packages is not writeable\n",
      "Requirement already satisfied: tqdm in /usr/local/lib/python3.8/dist-packages (4.63.0)\n",
      "\n",
      "\u001b[1m[\u001b[0m\u001b[34;49mnotice\u001b[0m\u001b[1;39;49m]\u001b[0m\u001b[39;49m A new release of pip available: \u001b[0m\u001b[31;49m22.3.1\u001b[0m\u001b[39;49m -> \u001b[0m\u001b[32;49m23.2.1\u001b[0m\n",
      "\u001b[1m[\u001b[0m\u001b[34;49mnotice\u001b[0m\u001b[1;39;49m]\u001b[0m\u001b[39;49m To update, run: \u001b[0m\u001b[32;49m/usr/bin/python3 -m pip install --upgrade pip\u001b[0m\n",
      "Note: you may need to restart the kernel to use updated packages.\n",
      "Defaulting to user installation because normal site-packages is not writeable\n",
      "Requirement already satisfied: rpy2==3.3.6 in /home/brunobian/.local/lib/python3.8/site-packages (3.3.6)\n",
      "Requirement already satisfied: cffi>=1.10.0 in /home/brunobian/.local/lib/python3.8/site-packages (from rpy2==3.3.6) (1.15.1)\n",
      "Requirement already satisfied: pytest in /home/brunobian/.local/lib/python3.8/site-packages (from rpy2==3.3.6) (7.2.1)\n",
      "Requirement already satisfied: tzlocal in /home/brunobian/.local/lib/python3.8/site-packages (from rpy2==3.3.6) (4.2)\n",
      "Requirement already satisfied: jinja2 in /home/brunobian/.local/lib/python3.8/site-packages (from rpy2==3.3.6) (3.1.2)\n",
      "Requirement already satisfied: pytz in /usr/local/lib/python3.8/dist-packages (from rpy2==3.3.6) (2022.1)\n",
      "Requirement already satisfied: pycparser in /home/brunobian/.local/lib/python3.8/site-packages (from cffi>=1.10.0->rpy2==3.3.6) (2.21)\n",
      "Requirement already satisfied: MarkupSafe>=2.0 in /home/brunobian/.local/lib/python3.8/site-packages (from jinja2->rpy2==3.3.6) (2.1.2)\n",
      "Requirement already satisfied: pluggy<2.0,>=0.12 in /usr/local/lib/python3.8/dist-packages (from pytest->rpy2==3.3.6) (1.0.0)\n",
      "Requirement already satisfied: packaging in /home/brunobian/.local/lib/python3.8/site-packages (from pytest->rpy2==3.3.6) (23.0)\n",
      "Requirement already satisfied: iniconfig in /home/brunobian/.local/lib/python3.8/site-packages (from pytest->rpy2==3.3.6) (2.0.0)\n",
      "Requirement already satisfied: tomli>=1.0.0 in /home/brunobian/.local/lib/python3.8/site-packages (from pytest->rpy2==3.3.6) (2.0.1)\n",
      "Requirement already satisfied: attrs>=19.2.0 in /home/brunobian/.local/lib/python3.8/site-packages (from pytest->rpy2==3.3.6) (22.2.0)\n",
      "Requirement already satisfied: exceptiongroup>=1.0.0rc8 in /home/brunobian/.local/lib/python3.8/site-packages (from pytest->rpy2==3.3.6) (1.1.0)\n",
      "Requirement already satisfied: backports.zoneinfo in /home/brunobian/.local/lib/python3.8/site-packages (from tzlocal->rpy2==3.3.6) (0.2.1)\n",
      "Requirement already satisfied: pytz-deprecation-shim in /home/brunobian/.local/lib/python3.8/site-packages (from tzlocal->rpy2==3.3.6) (0.1.0.post0)\n",
      "Requirement already satisfied: tzdata in /home/brunobian/.local/lib/python3.8/site-packages (from pytz-deprecation-shim->tzlocal->rpy2==3.3.6) (2022.7)\n",
      "\n",
      "\u001b[1m[\u001b[0m\u001b[34;49mnotice\u001b[0m\u001b[1;39;49m]\u001b[0m\u001b[39;49m A new release of pip available: \u001b[0m\u001b[31;49m22.3.1\u001b[0m\u001b[39;49m -> \u001b[0m\u001b[32;49m23.2.1\u001b[0m\n",
      "\u001b[1m[\u001b[0m\u001b[34;49mnotice\u001b[0m\u001b[1;39;49m]\u001b[0m\u001b[39;49m To update, run: \u001b[0m\u001b[32;49m/usr/bin/python3 -m pip install --upgrade pip\u001b[0m\n",
      "Note: you may need to restart the kernel to use updated packages.\n",
      "Defaulting to user installation because normal site-packages is not writeable\n",
      "Requirement already satisfied: seaborn in /home/brunobian/.local/lib/python3.8/site-packages (0.12.2)\n",
      "Requirement already satisfied: pandas>=0.25 in /home/brunobian/.local/lib/python3.8/site-packages (from seaborn) (1.5.2)\n",
      "Requirement already satisfied: matplotlib!=3.6.1,>=3.1 in /home/brunobian/.local/lib/python3.8/site-packages (from seaborn) (3.6.3)\n",
      "Requirement already satisfied: numpy!=1.24.0,>=1.17 in /usr/local/lib/python3.8/dist-packages (from seaborn) (1.22.3)\n",
      "Requirement already satisfied: packaging>=20.0 in /home/brunobian/.local/lib/python3.8/site-packages (from matplotlib!=3.6.1,>=3.1->seaborn) (23.0)\n",
      "Requirement already satisfied: contourpy>=1.0.1 in /home/brunobian/.local/lib/python3.8/site-packages (from matplotlib!=3.6.1,>=3.1->seaborn) (1.0.7)\n",
      "Requirement already satisfied: cycler>=0.10 in /home/brunobian/.local/lib/python3.8/site-packages (from matplotlib!=3.6.1,>=3.1->seaborn) (0.11.0)\n",
      "Requirement already satisfied: fonttools>=4.22.0 in /home/brunobian/.local/lib/python3.8/site-packages (from matplotlib!=3.6.1,>=3.1->seaborn) (4.38.0)\n",
      "Requirement already satisfied: pillow>=6.2.0 in /usr/local/lib/python3.8/dist-packages (from matplotlib!=3.6.1,>=3.1->seaborn) (9.0.1)\n",
      "Requirement already satisfied: pyparsing>=2.2.1 in /usr/lib/python3/dist-packages (from matplotlib!=3.6.1,>=3.1->seaborn) (2.4.6)\n",
      "Requirement already satisfied: python-dateutil>=2.7 in /home/brunobian/.local/lib/python3.8/site-packages (from matplotlib!=3.6.1,>=3.1->seaborn) (2.8.2)\n",
      "Requirement already satisfied: kiwisolver>=1.0.1 in /home/brunobian/.local/lib/python3.8/site-packages (from matplotlib!=3.6.1,>=3.1->seaborn) (1.4.4)\n",
      "Requirement already satisfied: pytz>=2020.1 in /usr/local/lib/python3.8/dist-packages (from pandas>=0.25->seaborn) (2022.1)\n",
      "Requirement already satisfied: six>=1.5 in /usr/lib/python3/dist-packages (from python-dateutil>=2.7->matplotlib!=3.6.1,>=3.1->seaborn) (1.14.0)\n",
      "\n",
      "\u001b[1m[\u001b[0m\u001b[34;49mnotice\u001b[0m\u001b[1;39;49m]\u001b[0m\u001b[39;49m A new release of pip available: \u001b[0m\u001b[31;49m22.3.1\u001b[0m\u001b[39;49m -> \u001b[0m\u001b[32;49m23.2.1\u001b[0m\n",
      "\u001b[1m[\u001b[0m\u001b[34;49mnotice\u001b[0m\u001b[1;39;49m]\u001b[0m\u001b[39;49m To update, run: \u001b[0m\u001b[32;49m/usr/bin/python3 -m pip install --upgrade pip\u001b[0m\n",
      "Note: you may need to restart the kernel to use updated packages.\n"
     ]
    }
   ],
   "source": [
    "%pip install tqdm\n",
    "%pip install rpy2==3.3.6\n",
    "%pip install seaborn"
   ]
  },
  {
   "cell_type": "markdown",
   "id": "96919fd6-9f43-475f-8f60-ae41202d4a24",
   "metadata": {},
   "source": [
    "### Imports"
   ]
  },
  {
   "cell_type": "code",
   "execution_count": 34,
   "id": "c73ec5e3-1bf1-4987-8f0f-3bd8654b880d",
   "metadata": {},
   "outputs": [],
   "source": [
    "import pandas as pd\n",
    "from tqdm import tqdm\n",
    "import seaborn as sns\n",
    "import matplotlib.pyplot as plt"
   ]
  },
  {
   "cell_type": "markdown",
   "id": "f05fa811-d788-42b1-b5e6-45befd782ef4",
   "metadata": {
    "tags": []
   },
   "source": [
    "### R to python setup "
   ]
  },
  {
   "cell_type": "code",
   "execution_count": 35,
   "id": "4046b0df-a888-4c05-b6ef-2cc0293457c8",
   "metadata": {},
   "outputs": [],
   "source": [
    "import rpy2"
   ]
  },
  {
   "cell_type": "code",
   "execution_count": 36,
   "id": "5a0385ff-52d4-4081-92dd-b6091349fe48",
   "metadata": {},
   "outputs": [],
   "source": [
    "from rpy2.robjects.packages import importr\n",
    "from rpy2.robjects import r, pandas2ri, conversion"
   ]
  },
  {
   "cell_type": "code",
   "execution_count": 37,
   "id": "cc865223-7270-4d07-8978-d66333edc385",
   "metadata": {},
   "outputs": [],
   "source": [
    "pandas2ri.activate()\n",
    "to_df = conversion.rpy2py\n",
    "to_rdf = conversion.py2rpy"
   ]
  },
  {
   "cell_type": "markdown",
   "id": "b9e914f2-e701-4763-b948-c0711145a3b5",
   "metadata": {
    "tags": []
   },
   "source": [
    "### R imports "
   ]
  },
  {
   "cell_type": "code",
   "execution_count": 38,
   "id": "0eb4821c-3484-4a54-8f95-b7af54b0bbbc",
   "metadata": {},
   "outputs": [
    {
     "name": "stderr",
     "output_type": "stream",
     "text": [
      "/home/brunobian/.local/lib/python3.8/site-packages/rpy2/robjects/vectors.py:969: UserWarning: R object inheriting from \"POSIXct\" but without attribute \"tzone\".\n",
      "  warnings.warn('R object inheriting from \"POSIXct\" but without '\n",
      "/home/brunobian/.local/lib/python3.8/site-packages/pandas/core/arrays/datetimes.py:2177: PytzUsageWarning: The zone attribute is specific to pytz's interface; please migrate to a new time zone provider. For more details on how to do so, see https://pytz-deprecation-shim.readthedocs.io/en/latest/migration.html\n",
      "  result, tz_parsed = tslib.array_to_datetime(\n",
      "Lang Models:  88%|███████████████████████████▏   | 7/8 [13:42<01:57, 117.48s/it]\n",
      "Lang Models:  88%|████████████████████████████    | 7/8 [10:00<01:25, 85.85s/it]\n"
     ]
    }
   ],
   "source": [
    "base = importr('base')\n",
    "lme4 = importr(\"lme4\")\n",
    "utils = importr('utils')\n",
    "stats = importr('stats')\n",
    "remef_lib = r['source']('../eye_movements/remef.v0.6.10.R')"
   ]
  },
  {
   "cell_type": "markdown",
   "id": "39ac3bd1-711c-4d95-af57-2202a0ec58cc",
   "metadata": {},
   "source": [
    "### Utils"
   ]
  },
  {
   "cell_type": "code",
   "execution_count": 39,
   "id": "75559128-1e64-4cf5-99a1-a62d77ea2803",
   "metadata": {},
   "outputs": [],
   "source": [
    "coef_summary = r(\"function(xs) { return(data.frame(coef(summary(xs)))) }\")\n",
    "remef = r['remef']\n",
    "def lmer(formula, data):\n",
    "    return lme4.lmer(stats.as_formula(formula), data = data, REML = False)"
   ]
  },
  {
   "cell_type": "markdown",
   "id": "83c7e437-8ef8-4760-9a9e-f1041c74d074",
   "metadata": {},
   "source": [
    "## Analysis"
   ]
  },
  {
   "cell_type": "code",
   "execution_count": 40,
   "id": "f417ac93-b8ca-42f8-bb5b-c15737f5ae7f",
   "metadata": {},
   "outputs": [
    {
     "name": "stderr",
     "output_type": "stream",
     "text": [
      "/home/brunobian/.local/lib/python3.8/site-packages/rpy2/robjects/pandas2ri.py:56: FutureWarning: iteritems is deprecated and will be removed in a future version. Use .items instead.\n",
      "  for name, values in obj.iteritems():\n"
     ]
    }
   ],
   "source": [
    "base_data = to_rdf(pd.read_csv(\"../eye_movements/Data2020.csv\", encoding='cp1252'))"
   ]
  },
  {
   "cell_type": "code",
   "execution_count": 41,
   "id": "7a748536-c2be-45b8-bf9c-39221b2522ae",
   "metadata": {},
   "outputs": [],
   "source": [
    "def get_data_for_model(prefix, base_data=base_data):\n",
    "    dn = utils.read_csv(f'../resultados/{prefix}/all.csv')\n",
    "    data = base.merge(base_data, dn)\n",
    "    return data"
   ]
  },
  {
   "cell_type": "code",
   "execution_count": 42,
   "id": "49e2a137-4b49-4353-b1b6-c286870e6281",
   "metadata": {},
   "outputs": [],
   "source": [
    "def run_lmm(data, *extra):\n",
    "    regr = \" \".join(f\"{x} +\" for x in extra)\n",
    "    return lmer(f'logFPRT ~ Nlaunchsite + invlength * freq + rpl + rpt + rps + {regr} (1 | sujid) + (1 | textid) + (1 | wordid)',  data)"
   ]
  },
  {
   "cell_type": "code",
   "execution_count": 43,
   "id": "ab2dc1ca-777a-4c2d-bed2-593ce1502d7c",
   "metadata": {},
   "outputs": [
    {
     "name": "stderr",
     "output_type": "stream",
     "text": [
      "Lang Models:   0%|                                        | 0/8 [00:00<?, ?it/s]/home/brunobian/.local/lib/python3.8/site-packages/rpy2/robjects/pandas2ri.py:56: FutureWarning: iteritems is deprecated and will be removed in a future version. Use .items instead.\n",
      "  for name, values in obj.iteritems():\n",
      "Lang Models:  12%|████                            | 1/8 [00:01<00:10,  1.51s/it]/home/brunobian/.local/lib/python3.8/site-packages/rpy2/robjects/pandas2ri.py:56: FutureWarning: iteritems is deprecated and will be removed in a future version. Use .items instead.\n",
      "  for name, values in obj.iteritems():\n",
      "Lang Models:  25%|████████                        | 2/8 [00:02<00:08,  1.43s/it]/home/brunobian/.local/lib/python3.8/site-packages/rpy2/robjects/pandas2ri.py:56: FutureWarning: iteritems is deprecated and will be removed in a future version. Use .items instead.\n",
      "  for name, values in obj.iteritems():\n",
      "Lang Models:  38%|████████████                    | 3/8 [00:04<00:07,  1.43s/it]/home/brunobian/.local/lib/python3.8/site-packages/rpy2/robjects/pandas2ri.py:56: FutureWarning: iteritems is deprecated and will be removed in a future version. Use .items instead.\n",
      "  for name, values in obj.iteritems():\n",
      "Lang Models:  50%|████████████████                | 4/8 [00:05<00:05,  1.41s/it]/home/brunobian/.local/lib/python3.8/site-packages/rpy2/robjects/pandas2ri.py:56: FutureWarning: iteritems is deprecated and will be removed in a future version. Use .items instead.\n",
      "  for name, values in obj.iteritems():\n",
      "Lang Models:  62%|████████████████████            | 5/8 [00:07<00:04,  1.41s/it]/home/brunobian/.local/lib/python3.8/site-packages/rpy2/robjects/pandas2ri.py:56: FutureWarning: iteritems is deprecated and will be removed in a future version. Use .items instead.\n",
      "  for name, values in obj.iteritems():\n",
      "Lang Models:  75%|████████████████████████        | 6/8 [00:08<00:02,  1.42s/it]/home/brunobian/.local/lib/python3.8/site-packages/rpy2/robjects/pandas2ri.py:56: FutureWarning: iteritems is deprecated and will be removed in a future version. Use .items instead.\n",
      "  for name, values in obj.iteritems():\n",
      "Lang Models:  88%|████████████████████████████    | 7/8 [00:09<00:01,  1.42s/it]/home/brunobian/.local/lib/python3.8/site-packages/rpy2/robjects/pandas2ri.py:56: FutureWarning: iteritems is deprecated and will be removed in a future version. Use .items instead.\n",
      "  for name, values in obj.iteritems():\n",
      "Lang Models: 100%|████████████████████████████████| 8/8 [00:11<00:00,  1.45s/it]\n"
     ]
    }
   ],
   "source": [
    "lang_models_data = [get_data_for_model(model) for model in tqdm(MODELS, desc=\"Lang Models\")]\n",
    "all_models = [base_data, base_data, base_data] + lang_models_data"
   ]
  },
  {
   "cell_type": "code",
   "execution_count": 45,
   "id": "f07bfe75-cb5c-4c38-ba98-40f26b45902c",
   "metadata": {},
   "outputs": [
    {
     "name": "stderr",
     "output_type": "stream",
     "text": [
      "Base Models: 100%|████████████████████████████████| 3/3 [00:05<00:00,  1.80s/it]\n",
      "Lang Models:   0%|                                        | 0/8 [00:00<?, ?it/s]/home/brunobian/.local/lib/python3.8/site-packages/rpy2/robjects/pandas2ri.py:56: FutureWarning: iteritems is deprecated and will be removed in a future version. Use .items instead.\n",
      "  for name, values in obj.iteritems():\n",
      "Lang Models: 100%|████████████████████████████████| 8/8 [00:51<00:00,  6.39s/it]\n"
     ]
    }
   ],
   "source": [
    "base_lmms = [run_lmm(base_data, *cols) for cols in tqdm([(), (\"CLOZE_pred\",), (\"X4.gramcache.0.0001500000_0.15\",)], desc=\"Base Models\")]\n",
    "lang_models_lmms = [run_lmm(model_data, 'awd') for model_data in tqdm(lang_models_data, desc=\"Lang Models\")]\n",
    "M = base_lmms + lang_models_lmms"
   ]
  },
  {
   "cell_type": "code",
   "execution_count": 46,
   "id": "e45a8c7f-7c10-47b0-b9ee-42ce9412e8e1",
   "metadata": {},
   "outputs": [],
   "source": [
    "def t_value_and_remef(model_data, lm_model, name):\n",
    "    fixed_efects = coef_summary(lm_model).index.values\n",
    "    remef_df = r.cbind(model_data, remefData=remef(lm_model, fix = fixed_efects))\n",
    "    mr = lmer(\"remefData ~ CLOZE_pred + (1|sujid) + (1|textid) + (1|wordid)\", remef_df)\n",
    "    res = coef_summary(lm_model)['t.value']\n",
    "    res['CLOZE_pred_remef'] = coef_summary(mr)['t.value']['CLOZE_pred']\n",
    "    return res.rename(name)"
   ]
  },
  {
   "cell_type": "code",
   "execution_count": 47,
   "id": "9414b016-bc60-45d8-b39b-0acdbb58d8d0",
   "metadata": {},
   "outputs": [
    {
     "name": "stderr",
     "output_type": "stream",
     "text": [
      "Running remef:   0%|                                     | 0/11 [00:00<?, ?it/s]/home/brunobian/.local/lib/python3.8/site-packages/rpy2/robjects/pandas2ri.py:56: FutureWarning: iteritems is deprecated and will be removed in a future version. Use .items instead.\n",
      "  for name, values in obj.iteritems():\n",
      "Running remef:   9%|██▋                          | 1/11 [00:05<00:59,  5.96s/it]/home/brunobian/.local/lib/python3.8/site-packages/rpy2/robjects/pandas2ri.py:56: FutureWarning: iteritems is deprecated and will be removed in a future version. Use .items instead.\n",
      "  for name, values in obj.iteritems():\n",
      "Running remef:  18%|█████▎                       | 2/11 [00:11<00:51,  5.73s/it]/home/brunobian/.local/lib/python3.8/site-packages/rpy2/robjects/pandas2ri.py:56: FutureWarning: iteritems is deprecated and will be removed in a future version. Use .items instead.\n",
      "  for name, values in obj.iteritems():\n",
      "Running remef:  27%|███████▉                     | 3/11 [00:17<00:45,  5.69s/it]/home/brunobian/.local/lib/python3.8/site-packages/rpy2/robjects/pandas2ri.py:56: FutureWarning: iteritems is deprecated and will be removed in a future version. Use .items instead.\n",
      "  for name, values in obj.iteritems():\n",
      "/home/brunobian/.local/lib/python3.8/site-packages/rpy2/robjects/pandas2ri.py:56: FutureWarning: iteritems is deprecated and will be removed in a future version. Use .items instead.\n",
      "  for name, values in obj.iteritems():\n",
      "Running remef:  36%|██████████▌                  | 4/11 [00:27<00:53,  7.58s/it]/home/brunobian/.local/lib/python3.8/site-packages/rpy2/robjects/pandas2ri.py:56: FutureWarning: iteritems is deprecated and will be removed in a future version. Use .items instead.\n",
      "  for name, values in obj.iteritems():\n",
      "/home/brunobian/.local/lib/python3.8/site-packages/rpy2/robjects/pandas2ri.py:56: FutureWarning: iteritems is deprecated and will be removed in a future version. Use .items instead.\n",
      "  for name, values in obj.iteritems():\n",
      "Running remef:  45%|█████████████▏               | 5/11 [00:38<00:52,  8.71s/it]/home/brunobian/.local/lib/python3.8/site-packages/rpy2/robjects/pandas2ri.py:56: FutureWarning: iteritems is deprecated and will be removed in a future version. Use .items instead.\n",
      "  for name, values in obj.iteritems():\n",
      "/home/brunobian/.local/lib/python3.8/site-packages/rpy2/robjects/pandas2ri.py:56: FutureWarning: iteritems is deprecated and will be removed in a future version. Use .items instead.\n",
      "  for name, values in obj.iteritems():\n",
      "Running remef:  55%|███████████████▊             | 6/11 [00:48<00:46,  9.36s/it]/home/brunobian/.local/lib/python3.8/site-packages/rpy2/robjects/pandas2ri.py:56: FutureWarning: iteritems is deprecated and will be removed in a future version. Use .items instead.\n",
      "  for name, values in obj.iteritems():\n",
      "/home/brunobian/.local/lib/python3.8/site-packages/rpy2/robjects/pandas2ri.py:56: FutureWarning: iteritems is deprecated and will be removed in a future version. Use .items instead.\n",
      "  for name, values in obj.iteritems():\n",
      "Running remef:  64%|██████████████████▍          | 7/11 [00:59<00:38,  9.75s/it]/home/brunobian/.local/lib/python3.8/site-packages/rpy2/robjects/pandas2ri.py:56: FutureWarning: iteritems is deprecated and will be removed in a future version. Use .items instead.\n",
      "  for name, values in obj.iteritems():\n",
      "/home/brunobian/.local/lib/python3.8/site-packages/rpy2/robjects/pandas2ri.py:56: FutureWarning: iteritems is deprecated and will be removed in a future version. Use .items instead.\n",
      "  for name, values in obj.iteritems():\n",
      "Running remef:  73%|█████████████████████        | 8/11 [01:09<00:29,  9.90s/it]/home/brunobian/.local/lib/python3.8/site-packages/rpy2/robjects/pandas2ri.py:56: FutureWarning: iteritems is deprecated and will be removed in a future version. Use .items instead.\n",
      "  for name, values in obj.iteritems():\n",
      "/home/brunobian/.local/lib/python3.8/site-packages/rpy2/robjects/pandas2ri.py:56: FutureWarning: iteritems is deprecated and will be removed in a future version. Use .items instead.\n",
      "  for name, values in obj.iteritems():\n",
      "Running remef:  82%|███████████████████████▋     | 9/11 [01:20<00:20, 10.06s/it]/home/brunobian/.local/lib/python3.8/site-packages/rpy2/robjects/pandas2ri.py:56: FutureWarning: iteritems is deprecated and will be removed in a future version. Use .items instead.\n",
      "  for name, values in obj.iteritems():\n",
      "/home/brunobian/.local/lib/python3.8/site-packages/rpy2/robjects/pandas2ri.py:56: FutureWarning: iteritems is deprecated and will be removed in a future version. Use .items instead.\n",
      "  for name, values in obj.iteritems():\n",
      "Running remef:  91%|█████████████████████████▍  | 10/11 [01:30<00:10, 10.26s/it]/home/brunobian/.local/lib/python3.8/site-packages/rpy2/robjects/pandas2ri.py:56: FutureWarning: iteritems is deprecated and will be removed in a future version. Use .items instead.\n",
      "  for name, values in obj.iteritems():\n",
      "/home/brunobian/.local/lib/python3.8/site-packages/rpy2/robjects/pandas2ri.py:56: FutureWarning: iteritems is deprecated and will be removed in a future version. Use .items instead.\n",
      "  for name, values in obj.iteritems():\n",
      "Running remef:  91%|█████████████████████████▍  | 10/11 [01:43<00:10, 10.31s/it]\n"
     ]
    }
   ],
   "source": [
    "ccs = [\n",
    "    t_value_and_remef(data, model, f\"M{i}\")\n",
    "    for i, (data, model) in enumerate(zip(all_models, tqdm(M, desc=\"Running remef\")))\n",
    "]"
   ]
  },
  {
   "cell_type": "code",
   "execution_count": 48,
   "id": "3534b591-04ff-4d73-b675-b0350c80cb69",
   "metadata": {},
   "outputs": [
    {
     "data": {
      "text/html": [
       "<div>\n",
       "<style scoped>\n",
       "    .dataframe tbody tr th:only-of-type {\n",
       "        vertical-align: middle;\n",
       "    }\n",
       "\n",
       "    .dataframe tbody tr th {\n",
       "        vertical-align: top;\n",
       "    }\n",
       "\n",
       "    .dataframe thead th {\n",
       "        text-align: right;\n",
       "    }\n",
       "</style>\n",
       "<table border=\"1\" class=\"dataframe\">\n",
       "  <thead>\n",
       "    <tr style=\"text-align: right;\">\n",
       "      <th></th>\n",
       "      <th>M0 | Base</th>\n",
       "      <th>M1 | Cloze</th>\n",
       "      <th>M2 | Ngram</th>\n",
       "      <th>M3 | AWD-wiki</th>\n",
       "      <th>M4 | AWD-FT</th>\n",
       "      <th>M5 | AWD-epubs</th>\n",
       "      <th>M6 | GPT2</th>\n",
       "      <th>M7 | GPT2-cuentos</th>\n",
       "      <th>M8 | GPT2-blogs</th>\n",
       "      <th>M9 | llama</th>\n",
       "      <th>M10 | llama2</th>\n",
       "    </tr>\n",
       "  </thead>\n",
       "  <tbody>\n",
       "    <tr>\n",
       "      <th>(Intercept)</th>\n",
       "      <td>283.008754</td>\n",
       "      <td>293.830955</td>\n",
       "      <td>271.864638</td>\n",
       "      <td>271.899899</td>\n",
       "      <td>276.084533</td>\n",
       "      <td>274.487819</td>\n",
       "      <td>281.257789</td>\n",
       "      <td>279.474999</td>\n",
       "      <td>281.971764</td>\n",
       "      <td>199.379405</td>\n",
       "      <td>280.820997</td>\n",
       "    </tr>\n",
       "    <tr>\n",
       "      <th>Nlaunchsite</th>\n",
       "      <td>44.437604</td>\n",
       "      <td>44.632825</td>\n",
       "      <td>43.923503</td>\n",
       "      <td>44.303614</td>\n",
       "      <td>44.204070</td>\n",
       "      <td>44.310050</td>\n",
       "      <td>44.034145</td>\n",
       "      <td>44.012181</td>\n",
       "      <td>44.000969</td>\n",
       "      <td>44.423622</td>\n",
       "      <td>44.305644</td>\n",
       "    </tr>\n",
       "    <tr>\n",
       "      <th>invlength</th>\n",
       "      <td>-18.150863</td>\n",
       "      <td>-18.556056</td>\n",
       "      <td>-19.098172</td>\n",
       "      <td>-19.413953</td>\n",
       "      <td>-19.282063</td>\n",
       "      <td>-18.591062</td>\n",
       "      <td>-20.044058</td>\n",
       "      <td>-19.896352</td>\n",
       "      <td>-19.897408</td>\n",
       "      <td>-18.249720</td>\n",
       "      <td>-19.930143</td>\n",
       "    </tr>\n",
       "    <tr>\n",
       "      <th>freq</th>\n",
       "      <td>-10.829610</td>\n",
       "      <td>-10.595400</td>\n",
       "      <td>-1.933659</td>\n",
       "      <td>-1.733827</td>\n",
       "      <td>-2.556459</td>\n",
       "      <td>-5.770295</td>\n",
       "      <td>-4.976962</td>\n",
       "      <td>-5.121528</td>\n",
       "      <td>-5.012300</td>\n",
       "      <td>-9.709554</td>\n",
       "      <td>-6.418875</td>\n",
       "    </tr>\n",
       "    <tr>\n",
       "      <th>rpl</th>\n",
       "      <td>4.142728</td>\n",
       "      <td>3.961059</td>\n",
       "      <td>4.333285</td>\n",
       "      <td>4.401136</td>\n",
       "      <td>4.191068</td>\n",
       "      <td>4.117377</td>\n",
       "      <td>4.449850</td>\n",
       "      <td>4.563032</td>\n",
       "      <td>4.610455</td>\n",
       "      <td>4.215537</td>\n",
       "      <td>4.250746</td>\n",
       "    </tr>\n",
       "    <tr>\n",
       "      <th>rpt</th>\n",
       "      <td>-3.928122</td>\n",
       "      <td>-3.280418</td>\n",
       "      <td>-3.874705</td>\n",
       "      <td>-4.251348</td>\n",
       "      <td>-4.676383</td>\n",
       "      <td>-4.676160</td>\n",
       "      <td>-4.560064</td>\n",
       "      <td>-4.148786</td>\n",
       "      <td>-4.254063</td>\n",
       "      <td>-4.470213</td>\n",
       "      <td>-4.764681</td>\n",
       "    </tr>\n",
       "    <tr>\n",
       "      <th>rps</th>\n",
       "      <td>-5.356682</td>\n",
       "      <td>-4.850063</td>\n",
       "      <td>-5.763752</td>\n",
       "      <td>-5.030321</td>\n",
       "      <td>-4.999477</td>\n",
       "      <td>-4.971784</td>\n",
       "      <td>-3.826630</td>\n",
       "      <td>-3.810529</td>\n",
       "      <td>-3.922001</td>\n",
       "      <td>-5.068645</td>\n",
       "      <td>-3.747695</td>\n",
       "    </tr>\n",
       "    <tr>\n",
       "      <th>1/length:freq</th>\n",
       "      <td>16.980784</td>\n",
       "      <td>17.167567</td>\n",
       "      <td>15.679300</td>\n",
       "      <td>14.707056</td>\n",
       "      <td>14.382165</td>\n",
       "      <td>16.911586</td>\n",
       "      <td>15.590313</td>\n",
       "      <td>15.581142</td>\n",
       "      <td>15.612366</td>\n",
       "      <td>17.202680</td>\n",
       "      <td>16.434818</td>\n",
       "    </tr>\n",
       "    <tr>\n",
       "      <th>Cloze-Pred</th>\n",
       "      <td>NaN</td>\n",
       "      <td>-16.234968</td>\n",
       "      <td>NaN</td>\n",
       "      <td>NaN</td>\n",
       "      <td>NaN</td>\n",
       "      <td>NaN</td>\n",
       "      <td>NaN</td>\n",
       "      <td>NaN</td>\n",
       "      <td>NaN</td>\n",
       "      <td>NaN</td>\n",
       "      <td>NaN</td>\n",
       "    </tr>\n",
       "    <tr>\n",
       "      <th>Ngram</th>\n",
       "      <td>NaN</td>\n",
       "      <td>NaN</td>\n",
       "      <td>-21.019650</td>\n",
       "      <td>NaN</td>\n",
       "      <td>NaN</td>\n",
       "      <td>NaN</td>\n",
       "      <td>NaN</td>\n",
       "      <td>NaN</td>\n",
       "      <td>NaN</td>\n",
       "      <td>NaN</td>\n",
       "      <td>NaN</td>\n",
       "    </tr>\n",
       "    <tr>\n",
       "      <th>Comp-Pred</th>\n",
       "      <td>NaN</td>\n",
       "      <td>NaN</td>\n",
       "      <td>NaN</td>\n",
       "      <td>-14.970503</td>\n",
       "      <td>-16.767842</td>\n",
       "      <td>-18.228011</td>\n",
       "      <td>-22.511843</td>\n",
       "      <td>-22.516295</td>\n",
       "      <td>-22.544167</td>\n",
       "      <td>-9.169560</td>\n",
       "      <td>-20.725526</td>\n",
       "    </tr>\n",
       "    <tr>\n",
       "      <th>Cloze-Remef</th>\n",
       "      <td>-16.139044</td>\n",
       "      <td>0.000010</td>\n",
       "      <td>-9.465203</td>\n",
       "      <td>-11.629835</td>\n",
       "      <td>-9.858743</td>\n",
       "      <td>-7.371486</td>\n",
       "      <td>-6.177669</td>\n",
       "      <td>-6.390543</td>\n",
       "      <td>-6.583374</td>\n",
       "      <td>-13.191887</td>\n",
       "      <td>-6.120765</td>\n",
       "    </tr>\n",
       "  </tbody>\n",
       "</table>\n",
       "</div>"
      ],
      "text/plain": [
       "                M0 | Base  M1 | Cloze  M2 | Ngram  M3 | AWD-wiki  M4 | AWD-FT  \\\n",
       "(Intercept)    283.008754  293.830955  271.864638     271.899899   276.084533   \n",
       "Nlaunchsite     44.437604   44.632825   43.923503      44.303614    44.204070   \n",
       "invlength      -18.150863  -18.556056  -19.098172     -19.413953   -19.282063   \n",
       "freq           -10.829610  -10.595400   -1.933659      -1.733827    -2.556459   \n",
       "rpl              4.142728    3.961059    4.333285       4.401136     4.191068   \n",
       "rpt             -3.928122   -3.280418   -3.874705      -4.251348    -4.676383   \n",
       "rps             -5.356682   -4.850063   -5.763752      -5.030321    -4.999477   \n",
       "1/length:freq   16.980784   17.167567   15.679300      14.707056    14.382165   \n",
       "Cloze-Pred            NaN  -16.234968         NaN            NaN          NaN   \n",
       "Ngram                 NaN         NaN  -21.019650            NaN          NaN   \n",
       "Comp-Pred             NaN         NaN         NaN     -14.970503   -16.767842   \n",
       "Cloze-Remef    -16.139044    0.000010   -9.465203     -11.629835    -9.858743   \n",
       "\n",
       "               M5 | AWD-epubs   M6 | GPT2  M7 | GPT2-cuentos  M8 | GPT2-blogs  \\\n",
       "(Intercept)        274.487819  281.257789         279.474999       281.971764   \n",
       "Nlaunchsite         44.310050   44.034145          44.012181        44.000969   \n",
       "invlength          -18.591062  -20.044058         -19.896352       -19.897408   \n",
       "freq                -5.770295   -4.976962          -5.121528        -5.012300   \n",
       "rpl                  4.117377    4.449850           4.563032         4.610455   \n",
       "rpt                 -4.676160   -4.560064          -4.148786        -4.254063   \n",
       "rps                 -4.971784   -3.826630          -3.810529        -3.922001   \n",
       "1/length:freq       16.911586   15.590313          15.581142        15.612366   \n",
       "Cloze-Pred                NaN         NaN                NaN              NaN   \n",
       "Ngram                     NaN         NaN                NaN              NaN   \n",
       "Comp-Pred          -18.228011  -22.511843         -22.516295       -22.544167   \n",
       "Cloze-Remef         -7.371486   -6.177669          -6.390543        -6.583374   \n",
       "\n",
       "               M9 | llama  M10 | llama2  \n",
       "(Intercept)    199.379405    280.820997  \n",
       "Nlaunchsite     44.423622     44.305644  \n",
       "invlength      -18.249720    -19.930143  \n",
       "freq            -9.709554     -6.418875  \n",
       "rpl              4.215537      4.250746  \n",
       "rpt             -4.470213     -4.764681  \n",
       "rps             -5.068645     -3.747695  \n",
       "1/length:freq   17.202680     16.434818  \n",
       "Cloze-Pred            NaN           NaN  \n",
       "Ngram                 NaN           NaN  \n",
       "Comp-Pred       -9.169560    -20.725526  \n",
       "Cloze-Remef    -13.191887     -6.120765  "
      ]
     },
     "execution_count": 48,
     "metadata": {},
     "output_type": "execute_result"
    }
   ],
   "source": [
    "df = pd.DataFrame(ccs).T\n",
    "\n",
    "ix = list(df.index).index('CLOZE_pred_remef')\n",
    "df = df.reindex([*df.index[:ix], *df.index[ix+1:], df.index[ix]])\n",
    "\n",
    "renames = {\n",
    "    \"CLOZE_pred\": \"Cloze-Pred\",\n",
    "    \"CLOZE_pred_remef\": \"Cloze-Remef\",\n",
    "    \"X4.gramcache.0.0001500000_0.15\": \"Ngram\",\n",
    "    \"awd\": \"Comp-Pred\",\n",
    "    \"invlength:freq\": \"1/length:freq\"\n",
    "}\n",
    "df.index = [renames.get(c, c) for c in df.index]\n",
    "\n",
    "df.columns = [f\"{c} | {NAMES[c]}\" for c in df.columns]\n",
    "\n",
    "df"
   ]
  },
  {
   "cell_type": "markdown",
   "id": "e2fbaffb-4ddb-439c-a6b2-7022a05aa86a",
   "metadata": {},
   "source": [
    "### Plots "
   ]
  },
  {
   "cell_type": "code",
   "execution_count": 31,
   "id": "ab5cacac-2759-4c9a-a380-ce3cd287034a",
   "metadata": {
    "tags": []
   },
   "outputs": [
    {
     "data": {
      "image/png": "[encoded data removed]",
      "text/plain": [
       "<Figure size 800x700 with 2 Axes>"
      ]
     },
     "metadata": {},
     "output_type": "display_data"
    }
   ],
   "source": [
    "plt.figure(figsize=(8, 7))\n",
    "font = {'family': 'Raleway','weight': 'bold','color':'b'}\n",
    "sns.heatmap(df, annot=True,center=0, cmap='coolwarm', vmin=-20, vmax=20, fmt=\"0.2f\", annot_kws=font)\n",
    "plt.rcParams['svg.fonttype'] = 'none'\n",
    "plt.savefig('TablaCompleta.svg')\n"
   ]
  },
  {
   "cell_type": "code",
   "execution_count": 84,
   "id": "7eacd938-042a-4cca-934f-cd87ad20d994",
   "metadata": {},
   "outputs": [
    {
     "data": {
      "text/plain": [
       "M0   -35945.444661\n",
       "M1   -36199.168707\n",
       "M2   -36370.136812\n",
       "M3   -36265.278738\n",
       "M4   -36427.378310\n",
       "M5   -36427.360908\n",
       "M6   -36427.047111\n",
       "Name: AIC, dtype: float64"
      ]
     },
     "execution_count": 84,
     "metadata": {},
     "output_type": "execute_result"
    }
   ],
   "source": [
    "aics = pd.Series({f\"M{i}\": stats.AIC(m)[0] for i, m in enumerate(M)}, name='AIC')\n",
    "aics"
   ]
  },
  {
   "cell_type": "code",
   "execution_count": 85,
   "id": "642dbeb8-b410-4ae9-902b-4c47fc3ea79f",
   "metadata": {},
   "outputs": [
    {
     "name": "stderr",
     "output_type": "stream",
     "text": [
      "Lang Models:  20%|█████▌                      | 1/5 [34:43<2:18:55, 2083.85s/it]\n"
     ]
    },
    {
     "data": {
      "text/plain": [
       "<AxesSubplot: >"
      ]
     },
     "execution_count": 85,
     "metadata": {},
     "output_type": "execute_result"
    },
    {
     "data": {
      "image/png": "[encoded data removed]",
      "text/plain": [
       "<Figure size 640x480 with 1 Axes>"
      ]
     },
     "metadata": {},
     "output_type": "display_data"
    }
   ],
   "source": [
    "ax = aics.rename().to_frame().plot.bar(rot=0)\n",
    "ax.set_ylim(top=aics.max() * 0.9)\n",
    "ax"
   ]
  },
  {
   "cell_type": "markdown",
   "id": "9c681618-69e9-4bb2-8773-90d699bc8675",
   "metadata": {},
   "source": [
    "### LaTeX"
   ]
  },
  {
   "cell_type": "code",
   "execution_count": 87,
   "id": "e42d3ae5-91f6-44e3-b8e7-2da7fe295ffe",
   "metadata": {},
   "outputs": [],
   "source": [
    "def make_table(df):\n",
    "    header = \" & \".join(fr\"\\textbf{{{c}}}\" for c in [\"Feature\", *df.columns]) + r\"\\\\\"\n",
    "    data = \"\\\\\\\\\\n\".join(\n",
    "        r.Index + \" & \" + \" & \".join(f\"{getattr(r, f'_{i+1}'):0.2f}\".replace('nan', '') for i in range(len(df.columns)))\n",
    "        for r in df.itertuples()\n",
    "    )\n",
    "    \n",
    "    return \"\\n\".join([\n",
    "        r\"\\begin{table}[h!]\",\n",
    "        r\"\\resizebox{\\textwidth}{!}\",\n",
    "        \"{\",\n",
    "        fr\"\\begin{{tabular}}{{l{ 'r' * len(df.columns)}}}\",\n",
    "        header,\n",
    "        r\"\\hline\",\n",
    "        data,\n",
    "        r\"\\end{tabular}\",\n",
    "        \"}\",\n",
    "        r\"\\caption{}\",\n",
    "        r\"\\end{table}\"\n",
    "    ])"
   ]
  },
  {
   "cell_type": "code",
   "execution_count": 88,
   "id": "0c4e0cf7-aade-4552-b575-3806f975aad5",
   "metadata": {},
   "outputs": [
    {
     "name": "stdout",
     "output_type": "stream",
     "text": [
      "\\begin{table}[h!]\n",
      "\\resizebox{\\textwidth}{!}\n",
      "{\n",
      "\\begin{tabular}{lrrrrrrr}\n",
      "\\textbf{Feature} & \\textbf{M0 | Base} & \\textbf{M1 | Cloze} & \\textbf{M2 | Ngram} & \\textbf{M3 | AWD-epubs} & \\textbf{M4 | GPT2} & \\textbf{M5 | GPT2-cuentos} & \\textbf{M6 | GPT2-blogs}\\\\\n",
      "\\hline\n",
      "(Intercept) & 283.01 & 293.83 & 271.86 & 274.49 & 281.26 & 279.47 & 281.97\\\\\n",
      "Nlaunchsite & 44.44 & 44.63 & 43.92 & 44.31 & 44.03 & 44.01 & 44.00\\\\\n",
      "invlength & -18.15 & -18.56 & -19.10 & -18.59 & -20.04 & -19.90 & -19.90\\\\\n",
      "freq & -10.83 & -10.60 & -1.93 & -5.77 & -4.98 & -5.12 & -5.01\\\\\n",
      "rpl & 4.14 & 3.96 & 4.33 & 4.12 & 4.45 & 4.56 & 4.61\\\\\n",
      "rpt & -3.93 & -3.28 & -3.87 & -4.68 & -4.56 & -4.15 & -4.25\\\\\n",
      "rps & -5.36 & -4.85 & -5.76 & -4.97 & -3.83 & -3.81 & -3.92\\\\\n",
      "1/length:freq & 16.98 & 17.17 & 15.68 & 16.91 & 15.59 & 15.58 & 15.61\\\\\n",
      "Cloze-Pred &  & -16.23 &  &  &  &  & \\\\\n",
      "Ngram &  &  & -21.02 &  &  &  & \\\\\n",
      "Comp-Pred &  &  &  & -18.23 & -22.51 & -22.52 & -22.54\\\\\n",
      "Cloze-Remef & -16.14 & 0.00 & -9.47 & -7.37 & -6.18 & -6.39 & -6.58\n",
      "\\end{tabular}\n",
      "}\n",
      "\\caption{}\n",
      "\\end{table}\n"
     ]
    }
   ],
   "source": [
    "print(make_table(df))"
   ]
  },
  {
   "cell_type": "code",
   "execution_count": 52,
   "id": "8946b4da-8ac7-4bb1-a0a2-20421a3d3cfa",
   "metadata": {},
   "outputs": [
    {
     "data": {
      "text/html": [
       "<div>\n",
       "<style scoped>\n",
       "    .dataframe tbody tr th:only-of-type {\n",
       "        vertical-align: middle;\n",
       "    }\n",
       "\n",
       "    .dataframe tbody tr th {\n",
       "        vertical-align: top;\n",
       "    }\n",
       "\n",
       "    .dataframe thead th {\n",
       "        text-align: right;\n",
       "    }\n",
       "</style>\n",
       "<table border=\"1\" class=\"dataframe\">\n",
       "  <thead>\n",
       "    <tr style=\"text-align: right;\">\n",
       "      <th></th>\n",
       "      <th>Correlation</th>\n",
       "    </tr>\n",
       "  </thead>\n",
       "  <tbody>\n",
       "    <tr>\n",
       "      <th>M3</th>\n",
       "      <td>0.326578</td>\n",
       "    </tr>\n",
       "    <tr>\n",
       "      <th>M4</th>\n",
       "      <td>0.385925</td>\n",
       "    </tr>\n",
       "    <tr>\n",
       "      <th>M5</th>\n",
       "      <td>0.518868</td>\n",
       "    </tr>\n",
       "    <tr>\n",
       "      <th>M6</th>\n",
       "      <td>0.495891</td>\n",
       "    </tr>\n",
       "    <tr>\n",
       "      <th>M7</th>\n",
       "      <td>0.491762</td>\n",
       "    </tr>\n",
       "    <tr>\n",
       "      <th>M8</th>\n",
       "      <td>0.488638</td>\n",
       "    </tr>\n",
       "  </tbody>\n",
       "</table>\n",
       "</div>"
      ],
      "text/plain": [
       "    Correlation\n",
       "M3     0.326578\n",
       "M4     0.385925\n",
       "M5     0.518868\n",
       "M6     0.495891\n",
       "M7     0.491762\n",
       "M8     0.488638"
      ]
     },
     "execution_count": 52,
     "metadata": {},
     "output_type": "execute_result"
    }
   ],
   "source": [
    "correlations = pd.Series({\n",
    "    f\"M{i+3}\": data[[\"awd\", \"CLOZE_pred\"]].corr(method='pearson').iloc[0, 1] \n",
    "    for i, data in enumerate(lang_models_data)\n",
    "}, name=\"Correlation\").to_frame()\n",
    "correlations"
   ]
  },
  {
   "cell_type": "code",
   "execution_count": null,
   "id": "31b9350c-a7ba-4c3e-842e-944fe2ec05de",
   "metadata": {},
   "outputs": [],
   "source": [
    "data = lang_models_data[0]\n",
    "data[data.awd > -200].plot.density(x='awd', y=\"CLOZE_pred\")\n",
    "\n",
    "data[data.awd > -20][[\"awd\", \"CLOZE_pred\"]].corr()"
   ]
  },
  {
   "cell_type": "code",
   "execution_count": null,
   "id": "ac2e233d-5f81-4642-b63c-7b1e44123edf",
   "metadata": {},
   "outputs": [],
   "source": [
    "sns.kdeplot(\n",
    "    data=data[data.awd > -20],\n",
    "    x=\"awd\",\n",
    "    y=\"CLOZE_pred\",\n",
    "    # thresh=.1,\n",
    ")\n"
   ]
  },
  {
   "cell_type": "code",
   "execution_count": null,
   "id": "90f2a4b5-3a89-43ba-8d69-a0ba636200e5",
   "metadata": {},
   "outputs": [],
   "source": []
  }
 ],
 "metadata": {
  "kernelspec": {
   "display_name": "Python 3 (ipykernel)",
   "language": "python",
   "name": "python3"
  },
  "language_info": {
   "codemirror_mode": {
    "name": "ipython",
    "version": 3
   },
   "file_extension": ".py",
   "mimetype": "text/x-python",
   "name": "python",
   "nbconvert_exporter": "python",
   "pygments_lexer": "ipython3",
   "version": "3.8.10"
  }
 },
 "nbformat": 4,
 "nbformat_minor": 5
}
